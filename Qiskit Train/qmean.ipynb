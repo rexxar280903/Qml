{
 "cells": [
  {
   "cell_type": "markdown",
   "metadata": {},
   "source": [
    "# Menggunakan Fungsi"
   ]
  },
  {
   "cell_type": "code",
   "execution_count": 1,
   "metadata": {},
   "outputs": [],
   "source": [
    "import numpy as np\n",
    "\n",
    "from qiskit import QuantumCircuit, QuantumRegister, ClassicalRegister\n",
    "from qiskit.visualization import plot_histogram\n",
    "\n",
    "# standarisasi\n",
    "from sklearn.preprocessing import StandardScaler"
   ]
  },
  {
   "cell_type": "code",
   "execution_count": 2,
   "metadata": {},
   "outputs": [],
   "source": [
    "# preprocessing data\n",
    "def preprocess_data(data):\n",
    "    scaler = StandardScaler()\n",
    "    data = scaler.fit_transform(data)\n",
    "    norm_data = data/ np.linalg.norm(data, axis=1, keepdims=True) # normalisasi L2\n",
    "    return norm_data"
   ]
  },
  {
   "cell_type": "code",
   "execution_count": 3,
   "metadata": {},
   "outputs": [],
   "source": [
    "# step 2: Quantum Circuti for Distance Calculation\n",
    "def create_distance_circuit(data_vector, centroid_vector):\n",
    "    qc = QuantumCircuit(3,1) # 1 ancilla, 1 data, 1 centroid qubit\n",
    "    \n",
    "    # superposisi pada qubit ancilla\n",
    "    qc.h(0)\n",
    "    \n",
    "    # encode data_vector ke qubit 1\n",
    "    theta_data = 2 * np.arcsin(data_vector[0])\n",
    "    qc.ry(theta_data, 1)\n",
    "    \n",
    "    # encode centroid_vector ke qubit 2 (controlled by ancilla)\n",
    "    theta_centroid = 2 * np.arcsin(centroid_vector[0])\n",
    "    qc.cry(theta_centroid, 0,2)\n",
    "    \n",
    "    # interferensi dengan Hadamard di ancilla\n",
    "    qc.h(0)\n",
    "    \n",
    "    qc.measure(0,0)\n",
    "    \n",
    "    return qc\n",
    "    "
   ]
  },
  {
   "cell_type": "code",
   "execution_count": 4,
   "metadata": {},
   "outputs": [],
   "source": [
    "from qiskit_aer import AerSimulator\n",
    "from qiskit import transpile\n",
    "import numpy as np\n",
    "\n",
    "# Step 3: Menghitung jarak Euclidean berbasis Quantum\n",
    "\n",
    "def quantum_distance(data_vector, centroid_vector, shots=1024):\n",
    "    qc = create_distance_circuit(data_vector, centroid_vector)  # Asumsikan fungsi ini sudah didefinisikan\n",
    "    \n",
    "    # Menggunakan AerSimulator\n",
    "    aer_sim = AerSimulator()\n",
    "    transpiled_circuit = transpile(qc, aer_sim)\n",
    "    job = aer_sim.run(transpiled_circuit, shots=shots)\n",
    "\n",
    "    # Mendapatkan hasil simulasi\n",
    "    result = job.result()\n",
    "    counts = result.get_counts()\n",
    "\n",
    "    # Probabilitas mendapatkan hasil '0'\n",
    "    p0 = counts.get('0', 0) / shots\n",
    "\n",
    "    # Menghitung jarak Quantum\n",
    "    distance = np.sqrt(4 * (1 - p0))\n",
    "    return distance\n",
    "\n",
    "# Step 4: q1:1-k-Means Clustering\n",
    "\n",
    "def q1_1_kmeans(data, centroids, shots=1024):\n",
    "    labels = []\n",
    "    for point in data:\n",
    "        distances = [quantum_distance(point, c, shots) for c in centroids]\n",
    "        label = np.argmin(distances)\n",
    "        labels.append(label)\n",
    "    return labels"
   ]
  },
  {
   "cell_type": "code",
   "execution_count": 5,
   "metadata": {},
   "outputs": [
    {
     "name": "stdout",
     "output_type": "stream",
     "text": [
      "Data point [1 2] diklasifikasikan ke cluster 1\n",
      "Data point [2 3] diklasifikasikan ke cluster 1\n",
      "Data point [3 4] diklasifikasikan ke cluster 1\n",
      "Data point [8 8] diklasifikasikan ke cluster 1\n",
      "Data point [9 9] diklasifikasikan ke cluster 1\n",
      "Data point [10 10] diklasifikasikan ke cluster 0\n"
     ]
    }
   ],
   "source": [
    "# Contoh Data (2D untuk kemudahan visualisasi)\n",
    "data = np.array([[1, 2], [2, 3], [3, 4], [8, 8], [9, 9], [10, 10]])\n",
    "centroids = np.array([[1, 2], [9, 9]])\n",
    "\n",
    "# Preprocessing\n",
    "processed_data = preprocess_data(data)\n",
    "processed_centroids = preprocess_data(centroids)\n",
    "\n",
    "# Clustering\n",
    "labels = q1_1_kmeans(processed_data, processed_centroids)\n",
    "\n",
    "# Output\n",
    "for i, label in enumerate(labels):\n",
    "    print(f\"Data point {data[i]} diklasifikasikan ke cluster {label}\")\n"
   ]
  },
  {
   "cell_type": "code",
   "execution_count": 14,
   "metadata": {},
   "outputs": [
    {
     "data": {
      "image/png": "[encoded data removed]",
      "text/plain": [
       "<Figure size 800x600 with 1 Axes>"
      ]
     },
     "metadata": {},
     "output_type": "display_data"
    },
    {
     "name": "stdout",
     "output_type": "stream",
     "text": [
      "Data point [1 2] diklasifikasikan ke cluster 0\n",
      "Data point [2 3] diklasifikasikan ke cluster 1\n",
      "Data point [3 4] diklasifikasikan ke cluster 1\n",
      "Data point [8 8] diklasifikasikan ke cluster 1\n",
      "Data point [9 9] diklasifikasikan ke cluster 1\n",
      "Data point [10 10] diklasifikasikan ke cluster 0\n"
     ]
    }
   ],
   "source": [
    "import numpy as np\n",
    "import matplotlib.pyplot as plt\n",
    "\n",
    "# Data dan centroid\n",
    "data = np.array([[1, 2], [2, 3], [3, 4], [8, 8], [9, 9], [10, 10]])\n",
    "centroids = np.array([[1, 2], [9, 9]])\n",
    "\n",
    "# Preprocessing\n",
    "processed_data = preprocess_data(data)\n",
    "processed_centroids = preprocess_data(centroids)\n",
    "\n",
    "# Clustering\n",
    "labels = q1_1_kmeans(processed_data, processed_centroids)\n",
    "\n",
    "# Visualisasi hasil clustering\n",
    "colors = ['blue', 'green']\n",
    "\n",
    "plt.figure(figsize=(8, 6))\n",
    "for i in range(len(data)):\n",
    "    plt.scatter(data[i, 0], data[i, 1], color=colors[labels[i]], label=f'Cluster {labels[i]}' if f'Cluster {labels[i]}' not in plt.gca().get_legend_handles_labels()[1] else '')\n",
    "\n",
    "# Plot centroids\n",
    "plt.scatter(centroids[:, 0], centroids[:, 1], c='red', marker='X', s=20, label='Centroids')\n",
    "\n",
    "plt.xlabel('X-axis')\n",
    "plt.ylabel('Y-axis')\n",
    "plt.title('Visualisasi Hasil Clustering')\n",
    "plt.legend()\n",
    "plt.grid(True)\n",
    "plt.xlim(0, 12)\n",
    "plt.ylim(0, 12)\n",
    "plt.show()\n",
    "\n",
    "# Output\n",
    "for i, label in enumerate(labels):\n",
    "    print(f\"Data point {data[i]} diklasifikasikan ke cluster {label}\")\n"
   ]
  },
  {
   "cell_type": "code",
   "execution_count": null,
   "metadata": {},
   "outputs": [],
   "source": []
  }
 ],
 "metadata": {
  "kernelspec": {
   "display_name": "q2env",
   "language": "python",
   "name": "python3"
  },
  "language_info": {
   "codemirror_mode": {
    "name": "ipython",
    "version": 3
   },
   "file_extension": ".py",
   "mimetype": "text/x-python",
   "name": "python",
   "nbconvert_exporter": "python",
   "pygments_lexer": "ipython3",
   "version": "3.12.1"
  }
 },
 "nbformat": 4,
 "nbformat_minor": 2
}
