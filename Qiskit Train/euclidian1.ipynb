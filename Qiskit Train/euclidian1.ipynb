{
 "cells": [
  {
   "cell_type": "code",
   "execution_count": 45,
   "metadata": {},
   "outputs": [
    {
     "name": "stdout",
     "output_type": "stream",
     "text": [
      "Statevector after initialization: Statevector([0.48+0.j, 0.  +0.j, 0.64+0.j, 0.  +0.j, 0.36+0.j, 0.  +0.j,\n",
      "             0.48+0.j, 0.  +0.j],\n",
      "            dims=(2, 2, 2))\n"
     ]
    },
    {
     "data": {
      "image/png": "[encoded data removed]",
      "text/plain": [
       "<Figure size 538.33x367.889 with 1 Axes>"
      ]
     },
     "execution_count": 45,
     "metadata": {},
     "output_type": "execute_result"
    }
   ],
   "source": [
    "# # koordinat 2 titik\n",
    "# a = [0.6, 0.8]\n",
    "# b = [0.8,0.6]\n",
    "\n",
    "# from qiskit.quantum_info import Statevector\n",
    "# from qiskit import QuantumCircuit\n",
    "\n",
    "# # inisialisasi untuk quantum state a\n",
    "# sv_a = Statevector(a)\n",
    "# qc_a = QuantumCircuit(1)\n",
    "# qc_a.initialize(sv_a,0)\n",
    "\n",
    "# # inisialisasi untuk quantum state a\n",
    "# sv_b = Statevector(b)\n",
    "# qc_b = QuantumCircuit(1)\n",
    "# qc_b.initialize(sv_b, 0)\n",
    "\n",
    "# # kombinasi dan inner product menggunakan hadamart test\n",
    "# qc = QuantumCircuit(2)\n",
    "# qc.initialize(sv_a.data, 0)\n",
    "# qc.initialize(sv_b.data, 1)\n",
    "# qc.h(0)\n",
    "# qc.cx(0,1)\n",
    "# qc.h(0)\n",
    "# qc.measure_all()\n",
    "\n",
    "# qc.draw(\"mpl\")\n",
    "\n",
    "\n",
    "# Metode ke 2\n",
    "from qiskit import QuantumCircuit\n",
    "\n",
    "# Quantum states\n",
    "a = [0.6, 0.8]\n",
    "b = [0.8, 0.6]\n",
    "\n",
    "# Circuit for Hadamard test\n",
    "qc = QuantumCircuit(3, 1)  # 1 ancilla + 2 qubits for |a> and |b>, 1 classical bit for ancilla measurement\n",
    "\n",
    "# Initialize |a> and |b>\n",
    "qc.initialize(a, 1)  # Qubit 1: |a>\n",
    "qc.initialize(b, 2)  # Qubit 2: |b>\n",
    "\n",
    "from qiskit.quantum_info import Statevector\n",
    "\n",
    "# Statevector after initialization\n",
    "sv = Statevector.from_instruction(qc)\n",
    "print(\"Statevector after initialization:\", sv)\n",
    "\n",
    "\n",
    "# Hadamard test\n",
    "qc.h(0)             # Hadamard on ancilla\n",
    "qc.cx(0, 1)         # Controlled operation on |a>\n",
    "qc.cx(0, 2)         # Controlled operation on |b>\n",
    "qc.h(0)             # Hadamard on ancilla again\n",
    "\n",
    "# Measure ancilla\n",
    "qc.measure(0, 0)    # Measure only ancilla (qubit 0)\n",
    "\n",
    "# Visualize the circuit\n",
    "qc.draw(\"mpl\")\n",
    "\n"
   ]
  },
  {
   "cell_type": "code",
   "execution_count": null,
   "metadata": {},
   "outputs": [
    {
     "ename": "QiskitError",
     "evalue": "'No statevector for experiment \"None\"'",
     "output_type": "error",
     "traceback": [
      "\u001b[1;31m---------------------------------------------------------------------------\u001b[0m",
      "\u001b[1;31mKeyError\u001b[0m                                  Traceback (most recent call last)",
      "File \u001b[1;32mc:\\Users\\user\\Videos\\belajar\\qiskit2\\q2env\\Lib\\site-packages\\qiskit\\result\\result.py:309\u001b[0m, in \u001b[0;36mResult.get_statevector\u001b[1;34m(self, experiment, decimals)\u001b[0m\n\u001b[0;32m    307\u001b[0m \u001b[38;5;28;01mtry\u001b[39;00m:\n\u001b[0;32m    308\u001b[0m     \u001b[38;5;28;01mreturn\u001b[39;00m postprocess\u001b[38;5;241m.\u001b[39mformat_statevector(\n\u001b[1;32m--> 309\u001b[0m         \u001b[38;5;28;43mself\u001b[39;49m\u001b[38;5;241;43m.\u001b[39;49m\u001b[43mdata\u001b[49m\u001b[43m(\u001b[49m\u001b[43mexperiment\u001b[49m\u001b[43m)\u001b[49m\u001b[43m[\u001b[49m\u001b[38;5;124;43m\"\u001b[39;49m\u001b[38;5;124;43mstatevector\u001b[39;49m\u001b[38;5;124;43m\"\u001b[39;49m\u001b[43m]\u001b[49m, decimals\u001b[38;5;241m=\u001b[39mdecimals\n\u001b[0;32m    310\u001b[0m     )\n\u001b[0;32m    311\u001b[0m \u001b[38;5;28;01mexcept\u001b[39;00m \u001b[38;5;167;01mKeyError\u001b[39;00m \u001b[38;5;28;01mas\u001b[39;00m ex:\n",
      "\u001b[1;31mKeyError\u001b[0m: 'statevector'",
      "\nThe above exception was the direct cause of the following exception:\n",
      "\u001b[1;31mQiskitError\u001b[0m                               Traceback (most recent call last)",
      "Cell \u001b[1;32mIn[46], line 21\u001b[0m\n\u001b[0;32m     19\u001b[0m aer_sim_sv \u001b[38;5;241m=\u001b[39m AerSimulator(method\u001b[38;5;241m=\u001b[39m\u001b[38;5;124m'\u001b[39m\u001b[38;5;124mstatevector\u001b[39m\u001b[38;5;124m'\u001b[39m)\n\u001b[0;32m     20\u001b[0m result_sv \u001b[38;5;241m=\u001b[39m aer_sim_sv\u001b[38;5;241m.\u001b[39mrun(new)\u001b[38;5;241m.\u001b[39mresult()\n\u001b[1;32m---> 21\u001b[0m statevector \u001b[38;5;241m=\u001b[39m \u001b[43mresult_sv\u001b[49m\u001b[38;5;241;43m.\u001b[39;49m\u001b[43mget_statevector\u001b[49m\u001b[43m(\u001b[49m\u001b[43m)\u001b[49m\n\u001b[0;32m     22\u001b[0m \u001b[38;5;28mprint\u001b[39m(\u001b[38;5;124m\"\u001b[39m\u001b[38;5;124mStatevector:\u001b[39m\u001b[38;5;124m\"\u001b[39m, statevector)\n\u001b[0;32m     24\u001b[0m \u001b[38;5;66;03m# Hitung inner product real\u001b[39;00m\n",
      "File \u001b[1;32mc:\\Users\\user\\Videos\\belajar\\qiskit2\\q2env\\Lib\\site-packages\\qiskit\\result\\result.py:312\u001b[0m, in \u001b[0;36mResult.get_statevector\u001b[1;34m(self, experiment, decimals)\u001b[0m\n\u001b[0;32m    308\u001b[0m     \u001b[38;5;28;01mreturn\u001b[39;00m postprocess\u001b[38;5;241m.\u001b[39mformat_statevector(\n\u001b[0;32m    309\u001b[0m         \u001b[38;5;28mself\u001b[39m\u001b[38;5;241m.\u001b[39mdata(experiment)[\u001b[38;5;124m\"\u001b[39m\u001b[38;5;124mstatevector\u001b[39m\u001b[38;5;124m\"\u001b[39m], decimals\u001b[38;5;241m=\u001b[39mdecimals\n\u001b[0;32m    310\u001b[0m     )\n\u001b[0;32m    311\u001b[0m \u001b[38;5;28;01mexcept\u001b[39;00m \u001b[38;5;167;01mKeyError\u001b[39;00m \u001b[38;5;28;01mas\u001b[39;00m ex:\n\u001b[1;32m--> 312\u001b[0m     \u001b[38;5;28;01mraise\u001b[39;00m QiskitError(\u001b[38;5;124mf\u001b[39m\u001b[38;5;124m'\u001b[39m\u001b[38;5;124mNo statevector for experiment \u001b[39m\u001b[38;5;124m\"\u001b[39m\u001b[38;5;132;01m{\u001b[39;00m\u001b[38;5;28mrepr\u001b[39m(experiment)\u001b[38;5;132;01m}\u001b[39;00m\u001b[38;5;124m\"\u001b[39m\u001b[38;5;124m'\u001b[39m) \u001b[38;5;28;01mfrom\u001b[39;00m \u001b[38;5;21;01mex\u001b[39;00m\n",
      "\u001b[1;31mQiskitError\u001b[0m: 'No statevector for experiment \"None\"'"
     ]
    }
   ],
   "source": [
    "#simulasi\n",
    "#m membuat simulator\n",
    "from qiskit_aer import AerSimulator\n",
    "aer_sim = AerSimulator()\n",
    "\n",
    "from qiskit import transpile\n",
    "new = transpile(qc, aer_sim)\n",
    "\n",
    "job = aer_sim.run(new)\n",
    "\n",
    "# mengecek hasil\n",
    "result = job.result()\n",
    "counts = result.get_counts()\n",
    "\n",
    "from qiskit.visualization import plot_histogram\n",
    "plot_histogram(counts)\n",
    "\n"
   ]
  },
  {
   "cell_type": "code",
   "execution_count": 39,
   "metadata": {},
   "outputs": [
    {
     "data": {
      "text/plain": [
       "1.8359375"
      ]
     },
     "execution_count": 39,
     "metadata": {},
     "output_type": "execute_result"
    }
   ],
   "source": [
    "# # hitung probabilitas \n",
    "# p0 = counts.get('00', 0)/100000\n",
    "# p1 = counts.get('10', 0)/100000\n",
    "\n",
    "# inner_product = 2 * (p0-p1)\n",
    "# inner_product\n",
    "\n",
    "# metode 2\n",
    "p0 = counts.get('0', 0) / sum(counts.values())\n",
    "p1 = counts.get('1', 0) / sum(counts.values())\n",
    "\n",
    "# Estimate the real part of the inner product\n",
    "inner_product = 2 * (p0 - p1)\n",
    "inner_product"
   ]
  },
  {
   "cell_type": "code",
   "execution_count": 42,
   "metadata": {},
   "outputs": [
    {
     "name": "stdout",
     "output_type": "stream",
     "text": [
      "Counts: {'0': 982, '1': 42}\n",
      "Probabilitas: P(0) = 0.958984375, P(1) = 0.041015625\n",
      "Estimasi Inner Product (Real): 1.8359375\n"
     ]
    }
   ],
   "source": [
    "print(f\"Counts: {counts}\")\n",
    "print(f\"Probabilitas: P(0) = {p0}, P(1) = {p1}\")\n",
    "print(f\"Estimasi Inner Product (Real): {inner_product}\")"
   ]
  },
  {
   "cell_type": "code",
   "execution_count": null,
   "metadata": {},
   "outputs": [],
   "source": []
  },
  {
   "cell_type": "code",
   "execution_count": null,
   "metadata": {},
   "outputs": [],
   "source": []
  }
 ],
 "metadata": {
  "kernelspec": {
   "display_name": "q2env",
   "language": "python",
   "name": "python3"
  },
  "language_info": {
   "codemirror_mode": {
    "name": "ipython",
    "version": 3
   },
   "file_extension": ".py",
   "mimetype": "text/x-python",
   "name": "python",
   "nbconvert_exporter": "python",
   "pygments_lexer": "ipython3",
   "version": "3.12.1"
  }
 },
 "nbformat": 4,
 "nbformat_minor": 2
}
